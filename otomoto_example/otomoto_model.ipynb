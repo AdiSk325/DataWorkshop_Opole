{
 "cells": [
  {
   "cell_type": "code",
   "execution_count": 424,
   "metadata": {},
   "outputs": [],
   "source": [
    "#!pip install xgboost"
   ]
  },
  {
   "cell_type": "code",
   "execution_count": 425,
   "metadata": {},
   "outputs": [],
   "source": [
    "import pandas as pd\n",
    "import numpy as np\n",
    "import matplotlib.pyplot as plt\n",
    "import os\n",
    "\n",
    "import xgboost as xgb\n",
    "\n",
    "from sklearn.preprocessing import OneHotEncoder\n",
    "from sklearn.linear_model import LinearRegression\n",
    "from sklearn.model_selection import train_test_split\n",
    "from sklearn.metrics import mean_absolute_error as mae\n",
    "\n",
    "%matplotlib inline"
   ]
  },
  {
   "cell_type": "code",
   "execution_count": 426,
   "metadata": {},
   "outputs": [],
   "source": [
    "DATA_DIR = os.path.join(os.getcwd(),'otomoto')\n",
    "FILE_PATH = os.path.join(DATA_DIR,'29.11.2017_15.53_otomoto.xlsx')"
   ]
  },
  {
   "cell_type": "code",
   "execution_count": 427,
   "metadata": {},
   "outputs": [],
   "source": [
    "orig_data = pd.read_excel(FILE_PATH)"
   ]
  },
  {
   "cell_type": "code",
   "execution_count": 428,
   "metadata": {},
   "outputs": [
    {
     "data": {
      "text/html": [
       "<div>\n",
       "<style scoped>\n",
       "    .dataframe tbody tr th:only-of-type {\n",
       "        vertical-align: middle;\n",
       "    }\n",
       "\n",
       "    .dataframe tbody tr th {\n",
       "        vertical-align: top;\n",
       "    }\n",
       "\n",
       "    .dataframe thead th {\n",
       "        text-align: right;\n",
       "    }\n",
       "</style>\n",
       "<table border=\"1\" class=\"dataframe\">\n",
       "  <thead>\n",
       "    <tr style=\"text-align: right;\">\n",
       "      <th></th>\n",
       "      <th>Name</th>\n",
       "      <th>Manufacturer</th>\n",
       "      <th>Year</th>\n",
       "      <th>Mileage</th>\n",
       "      <th>Engine cap.</th>\n",
       "      <th>Engine type</th>\n",
       "      <th>Value</th>\n",
       "      <th>Currency</th>\n",
       "      <th>Negotiation</th>\n",
       "      <th>Netto</th>\n",
       "      <th>Brutto</th>\n",
       "      <th>VAT</th>\n",
       "      <th>Price (EUR)</th>\n",
       "      <th>Price (EUR, VAT refund)</th>\n",
       "      <th>Customs fee (EUR)</th>\n",
       "      <th>Total price</th>\n",
       "      <th>Location</th>\n",
       "      <th>Link</th>\n",
       "      <th>DB date</th>\n",
       "    </tr>\n",
       "  </thead>\n",
       "  <tbody>\n",
       "    <tr>\n",
       "      <td>0</td>\n",
       "      <td>superb iii</td>\n",
       "      <td>škoda</td>\n",
       "      <td>2016</td>\n",
       "      <td>60670</td>\n",
       "      <td>2.0</td>\n",
       "      <td>diesel</td>\n",
       "      <td>10000</td>\n",
       "      <td>pln</td>\n",
       "      <td>True</td>\n",
       "      <td>True</td>\n",
       "      <td>False</td>\n",
       "      <td>True</td>\n",
       "      <td>2377.0</td>\n",
       "      <td>2377.0</td>\n",
       "      <td>1643.501</td>\n",
       "      <td>4020.501</td>\n",
       "      <td>nysa</td>\n",
       "      <td>link</td>\n",
       "      <td>2017-11-27 12:16:02</td>\n",
       "    </tr>\n",
       "    <tr>\n",
       "      <td>1</td>\n",
       "      <td>megane ii</td>\n",
       "      <td>renault</td>\n",
       "      <td>2006</td>\n",
       "      <td>237000</td>\n",
       "      <td>1.5</td>\n",
       "      <td>diesel</td>\n",
       "      <td>10000</td>\n",
       "      <td>pln</td>\n",
       "      <td>True</td>\n",
       "      <td>False</td>\n",
       "      <td>True</td>\n",
       "      <td>False</td>\n",
       "      <td>2377.0</td>\n",
       "      <td>2377.0</td>\n",
       "      <td>4387.016</td>\n",
       "      <td>6764.016</td>\n",
       "      <td>podwilk</td>\n",
       "      <td>link</td>\n",
       "      <td>2017-11-28 13:03:17</td>\n",
       "    </tr>\n",
       "    <tr>\n",
       "      <td>2</td>\n",
       "      <td>linea</td>\n",
       "      <td>fiat</td>\n",
       "      <td>2007</td>\n",
       "      <td>215000</td>\n",
       "      <td>1.3</td>\n",
       "      <td>diesel</td>\n",
       "      <td>10000</td>\n",
       "      <td>pln</td>\n",
       "      <td>True</td>\n",
       "      <td>False</td>\n",
       "      <td>True</td>\n",
       "      <td>False</td>\n",
       "      <td>2377.0</td>\n",
       "      <td>2377.0</td>\n",
       "      <td>3024.914</td>\n",
       "      <td>5401.914</td>\n",
       "      <td>gdańsk</td>\n",
       "      <td>link</td>\n",
       "      <td>2017-11-29 12:03:00</td>\n",
       "    </tr>\n",
       "  </tbody>\n",
       "</table>\n",
       "</div>"
      ],
      "text/plain": [
       "         Name Manufacturer  Year  Mileage  Engine cap. Engine type  Value  \\\n",
       "0  superb iii        škoda  2016    60670          2.0      diesel  10000   \n",
       "1   megane ii      renault  2006   237000          1.5      diesel  10000   \n",
       "2       linea         fiat  2007   215000          1.3      diesel  10000   \n",
       "\n",
       "  Currency  Negotiation  Netto  Brutto    VAT  Price (EUR)  \\\n",
       "0      pln         True   True   False   True       2377.0   \n",
       "1      pln         True  False    True  False       2377.0   \n",
       "2      pln         True  False    True  False       2377.0   \n",
       "\n",
       "   Price (EUR, VAT refund)  Customs fee (EUR)  Total price Location  Link  \\\n",
       "0                   2377.0           1643.501     4020.501     nysa  link   \n",
       "1                   2377.0           4387.016     6764.016  podwilk  link   \n",
       "2                   2377.0           3024.914     5401.914   gdańsk  link   \n",
       "\n",
       "              DB date  \n",
       "0 2017-11-27 12:16:02  \n",
       "1 2017-11-28 13:03:17  \n",
       "2 2017-11-29 12:03:00  "
      ]
     },
     "execution_count": 428,
     "metadata": {},
     "output_type": "execute_result"
    }
   ],
   "source": [
    "orig_data.head(3)"
   ]
  },
  {
   "cell_type": "code",
   "execution_count": 429,
   "metadata": {
    "scrolled": true
   },
   "outputs": [
    {
     "data": {
      "text/html": [
       "<div>\n",
       "<style scoped>\n",
       "    .dataframe tbody tr th:only-of-type {\n",
       "        vertical-align: middle;\n",
       "    }\n",
       "\n",
       "    .dataframe tbody tr th {\n",
       "        vertical-align: top;\n",
       "    }\n",
       "\n",
       "    .dataframe thead th {\n",
       "        text-align: right;\n",
       "    }\n",
       "</style>\n",
       "<table border=\"1\" class=\"dataframe\">\n",
       "  <thead>\n",
       "    <tr style=\"text-align: right;\">\n",
       "      <th></th>\n",
       "      <th>Year</th>\n",
       "      <th>Mileage</th>\n",
       "      <th>Engine cap.</th>\n",
       "      <th>Value</th>\n",
       "      <th>Price (EUR)</th>\n",
       "      <th>Price (EUR, VAT refund)</th>\n",
       "      <th>Customs fee (EUR)</th>\n",
       "      <th>Total price</th>\n",
       "    </tr>\n",
       "  </thead>\n",
       "  <tbody>\n",
       "    <tr>\n",
       "      <td>count</td>\n",
       "      <td>17503.000000</td>\n",
       "      <td>1.750300e+04</td>\n",
       "      <td>17503.000000</td>\n",
       "      <td>17503.000000</td>\n",
       "      <td>17503.000000</td>\n",
       "      <td>17503.000000</td>\n",
       "      <td>1.750300e+04</td>\n",
       "      <td>1.750300e+04</td>\n",
       "    </tr>\n",
       "    <tr>\n",
       "      <td>mean</td>\n",
       "      <td>2010.917386</td>\n",
       "      <td>1.458337e+05</td>\n",
       "      <td>2.088785</td>\n",
       "      <td>56531.718791</td>\n",
       "      <td>13483.640826</td>\n",
       "      <td>12378.243161</td>\n",
       "      <td>8.555938e+03</td>\n",
       "      <td>2.093418e+04</td>\n",
       "    </tr>\n",
       "    <tr>\n",
       "      <td>std</td>\n",
       "      <td>3.974583</td>\n",
       "      <td>9.835858e+04</td>\n",
       "      <td>7.054309</td>\n",
       "      <td>70236.320649</td>\n",
       "      <td>16737.437340</td>\n",
       "      <td>14445.530415</td>\n",
       "      <td>2.390849e+04</td>\n",
       "      <td>3.109961e+04</td>\n",
       "    </tr>\n",
       "    <tr>\n",
       "      <td>min</td>\n",
       "      <td>1995.000000</td>\n",
       "      <td>0.000000e+00</td>\n",
       "      <td>0.100000</td>\n",
       "      <td>2390.000000</td>\n",
       "      <td>2377.000000</td>\n",
       "      <td>1932.520325</td>\n",
       "      <td>8.517500e+02</td>\n",
       "      <td>3.228750e+03</td>\n",
       "    </tr>\n",
       "    <tr>\n",
       "      <td>25%</td>\n",
       "      <td>2008.000000</td>\n",
       "      <td>8.100000e+04</td>\n",
       "      <td>1.600000</td>\n",
       "      <td>18900.000000</td>\n",
       "      <td>4492.530000</td>\n",
       "      <td>4425.471545</td>\n",
       "      <td>3.705736e+03</td>\n",
       "      <td>8.842873e+03</td>\n",
       "    </tr>\n",
       "    <tr>\n",
       "      <td>50%</td>\n",
       "      <td>2011.000000</td>\n",
       "      <td>1.541490e+05</td>\n",
       "      <td>2.000000</td>\n",
       "      <td>29000.000000</td>\n",
       "      <td>7012.150000</td>\n",
       "      <td>6869.530000</td>\n",
       "      <td>6.091388e+03</td>\n",
       "      <td>1.284219e+04</td>\n",
       "    </tr>\n",
       "    <tr>\n",
       "      <td>75%</td>\n",
       "      <td>2014.000000</td>\n",
       "      <td>2.040000e+05</td>\n",
       "      <td>2.000000</td>\n",
       "      <td>59999.000000</td>\n",
       "      <td>14357.080000</td>\n",
       "      <td>13666.301829</td>\n",
       "      <td>8.572463e+03</td>\n",
       "      <td>2.181093e+04</td>\n",
       "    </tr>\n",
       "    <tr>\n",
       "      <td>max</td>\n",
       "      <td>2017.000000</td>\n",
       "      <td>2.900400e+06</td>\n",
       "      <td>399.600000</td>\n",
       "      <td>799000.000000</td>\n",
       "      <td>189922.300000</td>\n",
       "      <td>189423.130000</td>\n",
       "      <td>1.264823e+06</td>\n",
       "      <td>1.276945e+06</td>\n",
       "    </tr>\n",
       "  </tbody>\n",
       "</table>\n",
       "</div>"
      ],
      "text/plain": [
       "               Year       Mileage   Engine cap.          Value    Price (EUR)  \\\n",
       "count  17503.000000  1.750300e+04  17503.000000   17503.000000   17503.000000   \n",
       "mean    2010.917386  1.458337e+05      2.088785   56531.718791   13483.640826   \n",
       "std        3.974583  9.835858e+04      7.054309   70236.320649   16737.437340   \n",
       "min     1995.000000  0.000000e+00      0.100000    2390.000000    2377.000000   \n",
       "25%     2008.000000  8.100000e+04      1.600000   18900.000000    4492.530000   \n",
       "50%     2011.000000  1.541490e+05      2.000000   29000.000000    7012.150000   \n",
       "75%     2014.000000  2.040000e+05      2.000000   59999.000000   14357.080000   \n",
       "max     2017.000000  2.900400e+06    399.600000  799000.000000  189922.300000   \n",
       "\n",
       "       Price (EUR, VAT refund)  Customs fee (EUR)   Total price  \n",
       "count             17503.000000       1.750300e+04  1.750300e+04  \n",
       "mean              12378.243161       8.555938e+03  2.093418e+04  \n",
       "std               14445.530415       2.390849e+04  3.109961e+04  \n",
       "min                1932.520325       8.517500e+02  3.228750e+03  \n",
       "25%                4425.471545       3.705736e+03  8.842873e+03  \n",
       "50%                6869.530000       6.091388e+03  1.284219e+04  \n",
       "75%               13666.301829       8.572463e+03  2.181093e+04  \n",
       "max              189423.130000       1.264823e+06  1.276945e+06  "
      ]
     },
     "execution_count": 429,
     "metadata": {},
     "output_type": "execute_result"
    }
   ],
   "source": [
    "orig_data.describe()"
   ]
  },
  {
   "cell_type": "code",
   "execution_count": 430,
   "metadata": {},
   "outputs": [
    {
     "data": {
      "text/plain": [
       "(17503, 19)"
      ]
     },
     "execution_count": 430,
     "metadata": {},
     "output_type": "execute_result"
    }
   ],
   "source": [
    "orig_data.shape"
   ]
  },
  {
   "cell_type": "code",
   "execution_count": 431,
   "metadata": {},
   "outputs": [
    {
     "data": {
      "text/plain": [
       "Index(['Name', 'Manufacturer', 'Year', 'Mileage', 'Engine cap.', 'Engine type',\n",
       "       'Value', 'Currency', 'Negotiation', 'Netto', 'Brutto', 'VAT',\n",
       "       'Price (EUR)', 'Price (EUR, VAT refund)', 'Customs fee (EUR)',\n",
       "       'Total price', 'Location', 'Link', 'DB date'],\n",
       "      dtype='object')"
      ]
     },
     "execution_count": 431,
     "metadata": {},
     "output_type": "execute_result"
    }
   ],
   "source": [
    "orig_data.columns"
   ]
  },
  {
   "cell_type": "code",
   "execution_count": 432,
   "metadata": {},
   "outputs": [
    {
     "data": {
      "image/png": "[encoded data removed]",
      "text/plain": [
       "<Figure size 432x288 with 1 Axes>"
      ]
     },
     "metadata": {
      "needs_background": "light"
     },
     "output_type": "display_data"
    }
   ],
   "source": [
    "plt.boxplot(orig_data['Total price']);"
   ]
  },
  {
   "cell_type": "code",
   "execution_count": 433,
   "metadata": {},
   "outputs": [
    {
     "data": {
      "text/plain": [
       "(16114, 19)"
      ]
     },
     "execution_count": 433,
     "metadata": {},
     "output_type": "execute_result"
    }
   ],
   "source": [
    "df = orig_data[orig_data['Total price'] < 50000].reset_index(drop=True)\n",
    "df.shape"
   ]
  },
  {
   "cell_type": "code",
   "execution_count": 434,
   "metadata": {},
   "outputs": [
    {
     "data": {
      "image/png": "[encoded data removed]",
      "text/plain": [
       "<Figure size 1080x360 with 1 Axes>"
      ]
     },
     "metadata": {
      "needs_background": "light"
     },
     "output_type": "display_data"
    }
   ],
   "source": [
    "plt.figure(figsize=(15,5))\n",
    "plt.hist(df['Total price'], density=True, color='r');"
   ]
  },
  {
   "cell_type": "code",
   "execution_count": 435,
   "metadata": {},
   "outputs": [
    {
     "data": {
      "text/plain": [
       "Name                               object\n",
       "Manufacturer                       object\n",
       "Year                                int64\n",
       "Mileage                             int64\n",
       "Engine cap.                       float64\n",
       "Engine type                        object\n",
       "Value                               int64\n",
       "Currency                           object\n",
       "Negotiation                          bool\n",
       "Netto                                bool\n",
       "Brutto                               bool\n",
       "VAT                                  bool\n",
       "Price (EUR)                       float64\n",
       "Price (EUR, VAT refund)           float64\n",
       "Customs fee (EUR)                 float64\n",
       "Total price                       float64\n",
       "Location                           object\n",
       "Link                               object\n",
       "DB date                    datetime64[ns]\n",
       "dtype: object"
      ]
     },
     "execution_count": 435,
     "metadata": {},
     "output_type": "execute_result"
    }
   ],
   "source": [
    "df.dtypes"
   ]
  },
  {
   "cell_type": "code",
   "execution_count": 436,
   "metadata": {},
   "outputs": [
    {
     "name": "stdout",
     "output_type": "stream",
     "text": [
      "Name :  625\n",
      "Manufacturer :  46\n",
      "Engine type :  1\n",
      "Currency :  2\n",
      "Location :  1738\n",
      "Link :  1\n"
     ]
    }
   ],
   "source": [
    "for col_name in df.columns:\n",
    "    if df[col_name].dtype == np.object:\n",
    "        print(col_name, ': ',  len(df[col_name].value_counts()))"
   ]
  },
  {
   "cell_type": "code",
   "execution_count": 437,
   "metadata": {},
   "outputs": [
    {
     "name": "stdout",
     "output_type": "stream",
     "text": [
      "2017-11-25 18:14:28\n",
      "2017-11-29 12:03:00\n"
     ]
    }
   ],
   "source": [
    "print(df['DB date'].min())\n",
    "print(df['DB date'].max())"
   ]
  },
  {
   "cell_type": "code",
   "execution_count": 438,
   "metadata": {},
   "outputs": [
    {
     "data": {
      "text/plain": [
       "array([[1.        , 0.94687727],\n",
       "       [0.94687727, 1.        ]])"
      ]
     },
     "execution_count": 438,
     "metadata": {},
     "output_type": "execute_result"
    }
   ],
   "source": [
    "np.corrcoef(df['Total price'], df.Value)"
   ]
  },
  {
   "cell_type": "code",
   "execution_count": 439,
   "metadata": {},
   "outputs": [],
   "source": [
    "list_of_columns = ['Year', 'Mileage', 'Engine cap.', 'Currency', 'Negotiation', 'Netto', 'VAT','Total price']"
   ]
  },
  {
   "cell_type": "code",
   "execution_count": 440,
   "metadata": {},
   "outputs": [],
   "source": [
    "df = df[list_of_columns]"
   ]
  },
  {
   "cell_type": "code",
   "execution_count": 441,
   "metadata": {},
   "outputs": [],
   "source": [
    "def change_object_to_OneHots(df, col_name):\n",
    "    enc = OneHotEncoder()\n",
    "    X = np.array(df.Currency).reshape(-1,1)\n",
    "    enc.fit(X)\n",
    "    OneHot_df = pd.DataFrame(enc.transform(X).toarray())\n",
    "    OneHot_df.columns= enc.categories_\n",
    "    for value in enc.categories_:\n",
    "        name = col_name + '_' + value\n",
    "        df[name] = OneHot_df[value]\n",
    "    \n",
    "    df = df.drop(col_name, axis = 1)\n",
    "    return df"
   ]
  },
  {
   "cell_type": "code",
   "execution_count": 442,
   "metadata": {},
   "outputs": [],
   "source": [
    "df = change_object_to_OneHots(df, 'Currency')"
   ]
  },
  {
   "cell_type": "code",
   "execution_count": 443,
   "metadata": {},
   "outputs": [],
   "source": [
    "X = df.drop('Total price', axis=1)\n",
    "y = df['Total price'] "
   ]
  },
  {
   "cell_type": "code",
   "execution_count": 444,
   "metadata": {},
   "outputs": [],
   "source": [
    "X_train, X_test, y_train, y_test = train_test_split(X,y, train_size = 0.8)"
   ]
  },
  {
   "cell_type": "code",
   "execution_count": 445,
   "metadata": {},
   "outputs": [
    {
     "name": "stdout",
     "output_type": "stream",
     "text": [
      "(12891, 8)\n",
      "(3223, 8)\n",
      "(12891,)\n",
      "(3223,)\n"
     ]
    }
   ],
   "source": [
    "print(X_train.shape)\n",
    "print(X_test.shape)\n",
    "print(y_train.shape)\n",
    "print(y_test.shape)"
   ]
  },
  {
   "cell_type": "code",
   "execution_count": 454,
   "metadata": {},
   "outputs": [
    {
     "name": "stdout",
     "output_type": "stream",
     "text": [
      "TRAIN:  5408.422714962253\n",
      "TEST:  5531.097680254608\n"
     ]
    }
   ],
   "source": [
    "model_LR = LinearRegression()\n",
    "model_LR.fit(np.array(X_train), y_train);\n",
    "\n",
    "y_predict = model_LR.predict(X_train)\n",
    "print('TRAIN: ', mae(y_predict, y_train))\n",
    "y_predict = model_LR.predict(X_test)\n",
    "print('TEST: ', mae(y_predict, y_test))"
   ]
  },
  {
   "cell_type": "code",
   "execution_count": 494,
   "metadata": {
    "scrolled": true
   },
   "outputs": [
    {
     "name": "stderr",
     "output_type": "stream",
     "text": [
      "C:\\Users\\skutn\\AppData\\Local\\Continuum\\anaconda3\\lib\\site-packages\\xgboost\\core.py:587: FutureWarning: Series.base is deprecated and will be removed in a future version\n",
      "  if getattr(data, 'base', None) is not None and \\\n"
     ]
    },
    {
     "name": "stdout",
     "output_type": "stream",
     "text": [
      "[00:18:02] WARNING: C:/Jenkins/workspace/xgboost-win64_release_0.90/src/objective/regression_obj.cu:152: reg:linear is now deprecated in favor of reg:squarederror.\n",
      "TRAIN:  2921.1319953903294\n",
      "TEST:  3234.548177964433\n"
     ]
    }
   ],
   "source": [
    "model_xgb = xgb.XGBRegressor(n_estimators=300, learning_rate=0.2)\n",
    "model_xgb.fit(X_train, y_train);\n",
    "\n",
    "y_predict = model_xgb.predict(X_train)\n",
    "print('TRAIN: ', mae(y_predict, y_train))\n",
    "y_predict = model_xgb.predict(X_test)\n",
    "print('TEST: ', mae(y_predict, y_test))"
   ]
  },
  {
   "cell_type": "code",
   "execution_count": 495,
   "metadata": {
    "scrolled": true
   },
   "outputs": [
    {
     "data": {
      "text/html": [
       "<div>\n",
       "<style scoped>\n",
       "    .dataframe tbody tr th:only-of-type {\n",
       "        vertical-align: middle;\n",
       "    }\n",
       "\n",
       "    .dataframe tbody tr th {\n",
       "        vertical-align: top;\n",
       "    }\n",
       "\n",
       "    .dataframe thead th {\n",
       "        text-align: right;\n",
       "    }\n",
       "</style>\n",
       "<table border=\"1\" class=\"dataframe\">\n",
       "  <thead>\n",
       "    <tr style=\"text-align: right;\">\n",
       "      <th></th>\n",
       "      <th>Year</th>\n",
       "      <th>Mileage</th>\n",
       "      <th>Engine cap.</th>\n",
       "      <th>Negotiation</th>\n",
       "      <th>Netto</th>\n",
       "      <th>VAT</th>\n",
       "      <th>Currency_eur</th>\n",
       "      <th>Currency_pln</th>\n",
       "    </tr>\n",
       "  </thead>\n",
       "  <tbody>\n",
       "    <tr>\n",
       "      <td>1462</td>\n",
       "      <td>2013</td>\n",
       "      <td>150000</td>\n",
       "      <td>1.5</td>\n",
       "      <td>True</td>\n",
       "      <td>False</td>\n",
       "      <td>True</td>\n",
       "      <td>0.0</td>\n",
       "      <td>1.0</td>\n",
       "    </tr>\n",
       "  </tbody>\n",
       "</table>\n",
       "</div>"
      ],
      "text/plain": [
       "      Year  Mileage  Engine cap.  Negotiation  Netto   VAT  Currency_eur  \\\n",
       "1462  2013   150000          1.5         True  False  True           0.0   \n",
       "\n",
       "      Currency_pln  \n",
       "1462           1.0  "
      ]
     },
     "execution_count": 495,
     "metadata": {},
     "output_type": "execute_result"
    }
   ],
   "source": [
    "random_idx = int(np.random.uniform(0,len(X_test)))\n",
    "random_car = pd.DataFrame(X_test.iloc[random_idx:random_idx+1])\n",
    "random_car"
   ]
  },
  {
   "cell_type": "code",
   "execution_count": 496,
   "metadata": {},
   "outputs": [
    {
     "data": {
      "text/plain": [
       "(5586.658846747969, 16621.021682152757, 7398.43408203125)"
      ]
     },
     "execution_count": 496,
     "metadata": {},
     "output_type": "execute_result"
    }
   ],
   "source": [
    "real_price = y_test.iloc[random_idx]\n",
    "LR_price = float(model_LR.predict(random_car))\n",
    "xgb_price = float(model_xgb.predict(random_car))\n",
    "\n",
    "real_price, LR_price, xgb_price"
   ]
  },
  {
   "cell_type": "code",
   "execution_count": 497,
   "metadata": {},
   "outputs": [
    {
     "data": {
      "text/plain": [
       "array([ 9.22534972e+02, -1.67654886e-02,  8.68249465e+03, -5.09982233e+02,\n",
       "       -1.99715031e+03,  2.44852452e+03,  1.39586620e+03, -1.39586620e+03])"
      ]
     },
     "execution_count": 497,
     "metadata": {},
     "output_type": "execute_result"
    }
   ],
   "source": [
    "model_LR.coef_"
   ]
  },
  {
   "cell_type": "code",
   "execution_count": 498,
   "metadata": {},
   "outputs": [
    {
     "data": {
      "text/plain": [
       "array([0.540518  , 0.02944431, 0.34413785, 0.01405936, 0.03212207,\n",
       "       0.03001498, 0.00970343, 0.        ], dtype=float32)"
      ]
     },
     "execution_count": 498,
     "metadata": {},
     "output_type": "execute_result"
    }
   ],
   "source": [
    "model_xgb.feature_importances_"
   ]
  }
 ],
 "metadata": {
  "kernelspec": {
   "display_name": "Python 3",
   "language": "python",
   "name": "python3"
  },
  "language_info": {
   "codemirror_mode": {
    "name": "ipython",
    "version": 3
   },
   "file_extension": ".py",
   "mimetype": "text/x-python",
   "name": "python",
   "nbconvert_exporter": "python",
   "pygments_lexer": "ipython3",
   "version": "3.7.4"
  }
 },
 "nbformat": 4,
 "nbformat_minor": 2
}
