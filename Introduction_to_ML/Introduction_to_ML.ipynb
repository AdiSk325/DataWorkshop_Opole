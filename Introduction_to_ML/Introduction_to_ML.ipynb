{
 "cells": [
  {
   "cell_type": "markdown",
   "metadata": {},
   "source": [
    "# Agenda:"
   ]
  },
  {
   "cell_type": "markdown",
   "metadata": {},
   "source": [
    "### 1. Introduction to introduction, czyli od czego się zaczeło?\n",
    "### 2. Machine Learning, Data Science i inne trudne słowa\n",
    "### 3. Bardziej życiowe zastosowania -- szukam auta\n",
    "### 4. Co dalej??"
   ]
  },
  {
   "cell_type": "code",
   "execution_count": 1,
   "metadata": {
    "slideshow": {
     "slide_type": "-"
    }
   },
   "outputs": [],
   "source": [
    "from IPython.display import display, Image, Math, Latex\n",
    "from IPython.core.display import HTML\n",
    "import os "
   ]
  },
  {
   "cell_type": "markdown",
   "metadata": {},
   "source": [
    "## Po co to wszystko?"
   ]
  },
  {
   "cell_type": "markdown",
   "metadata": {},
   "source": [
    "<img src=\"pictures\\data_science_diagram.png\" width=\"500px\" align=\"center\"/>"
   ]
  },
  {
   "cell_type": "markdown",
   "metadata": {},
   "source": [
    "## Instalujemy środowisko pracy"
   ]
  },
  {
   "cell_type": "markdown",
   "metadata": {},
   "source": [
    "<img src=\"pictures\\anaconda.png\" width=\"1000\" align=\"left\"/>"
   ]
  },
  {
   "cell_type": "markdown",
   "metadata": {},
   "source": [
    "### Odpalamy jupyter notebook ...\n",
    "##### Znajdź w Windows Anaconda Prompt, otwórz i wpisz: jupyter notebook"
   ]
  },
  {
   "cell_type": "markdown",
   "metadata": {},
   "source": [
    "<img src=\"pictures\\jupyter_notebook_open.PNG\" width=\"1000\" align=\"left\"/>"
   ]
  },
  {
   "cell_type": "markdown",
   "metadata": {},
   "source": [
    "### ... i tworzymy nowy plik "
   ]
  },
  {
   "cell_type": "markdown",
   "metadata": {},
   "source": [
    "<img src=\"pictures\\new_python3_notebook.PNG\" width=\"1000\" align=\"left\"/>"
   ]
  },
  {
   "cell_type": "markdown",
   "metadata": {},
   "source": [
    "#### Początki nie muszą być trudne - import bibliotek"
   ]
  },
  {
   "cell_type": "code",
   "execution_count": 16,
   "metadata": {},
   "outputs": [],
   "source": [
    "import numpy as np   #matematyka zamknięta w Pythona \n",
    "import pandas as pd  #podstawowe struktury danych\n",
    "import matplotlib.pyplot as plt #obrazki :) \n",
    "\n",
    "from sklearn.linear_model import LinearRegression   #nasz pierwszy model ...\n",
    "from sklearn.metrics import mean_absolute_error as mae  #... i pomiar jego skuteczności\n",
    "\n",
    "%matplotlib inline "
   ]
  },
  {
   "cell_type": "markdown",
   "metadata": {},
   "source": [
    "#### Trochę matematyki dla rozluźnienia - rozkład normalny"
   ]
  },
  {
   "cell_type": "code",
   "execution_count": 17,
   "metadata": {},
   "outputs": [
    {
     "data": {
      "text/latex": [
       "$\\displaystyle \\Phi(x) = \\frac{1}{\\sqrt{2\\pi}} \\int_{-\\infty}^{x} e^{-\\frac{t^2}{2}} dt$"
      ],
      "text/plain": [
       "<IPython.core.display.Math object>"
      ]
     },
     "metadata": {},
     "output_type": "display_data"
    }
   ],
   "source": [
    "display(Math(r'\\Phi(x) = \\frac{1}{\\sqrt{2\\pi}} \\int_{-\\infty}^{x} e^{-\\frac{t^2}{2}} dt'))"
   ]
  },
  {
   "cell_type": "code",
   "execution_count": 18,
   "metadata": {},
   "outputs": [
    {
     "data": {
      "image/png": "[encoded data removed]",
      "text/plain": [
       "<Figure size 432x288 with 1 Axes>"
      ]
     },
     "metadata": {
      "needs_background": "light"
     },
     "output_type": "display_data"
    }
   ],
   "source": [
    "normal_dist = list(np.random.normal(0,1,500000))\n",
    "plt.hist(normal_dist,300,density=True);"
   ]
  },
  {
   "cell_type": "markdown",
   "metadata": {},
   "source": [
    "#### Programowanie funkcjami stoi - jak sprawnie pisać kod "
   ]
  },
  {
   "cell_type": "code",
   "execution_count": 5,
   "metadata": {},
   "outputs": [],
   "source": [
    "def random_linear_points(a=1,b=0,num_of_points=100):\n",
    "    x = list(np.linspace(0,1,num_of_points))\n",
    "    y = [a*i + b + np.random.normal(0,np.sqrt(a)) for i in x]\n",
    "    \n",
    "    return pd.DataFrame(zip(x,y), columns = ['x', 'y'])"
   ]
  },
  {
   "cell_type": "code",
   "execution_count": 6,
   "metadata": {},
   "outputs": [],
   "source": [
    "data = random_linear_points(50.39,17.55,187)"
   ]
  },
  {
   "cell_type": "markdown",
   "metadata": {},
   "source": [
    "\n",
    "#### Pismo obrazkowe - podobno dociera lepiej "
   ]
  },
  {
   "cell_type": "code",
   "execution_count": 7,
   "metadata": {},
   "outputs": [
    {
     "data": {
      "image/png": "[encoded data removed]",
      "text/plain": [
       "<Figure size 1080x360 with 1 Axes>"
      ]
     },
     "metadata": {
      "needs_background": "light"
     },
     "output_type": "display_data"
    }
   ],
   "source": [
    "plt.figure(figsize=(15,5))\n",
    "plt.plot(data.x, data.y, 'o', c='r');"
   ]
  },
  {
   "cell_type": "markdown",
   "metadata": {},
   "source": [
    "### No to budujemy!!! - pierwszy model[<sup>1</sup>](#fn1)\n",
    "<span id=\"fn1\">Aurélien Géron, Uczenie maszynowe z użyciem Scikit-Learn i TensorFlow, O'Reilly, 2018, s.119-124.</span>"
   ]
  },
  {
   "cell_type": "code",
   "execution_count": 19,
   "metadata": {},
   "outputs": [
    {
     "data": {
      "text/latex": [
       "$\\displaystyle f(x) = ax + b$"
      ],
      "text/plain": [
       "<IPython.core.display.Math object>"
      ]
     },
     "metadata": {},
     "output_type": "display_data"
    },
    {
     "data": {
      "text/latex": [
       "$\\displaystyle f(X) = \\theta_0 + \\theta_1 x_1 + \\dots + \\theta_n x_n$"
      ],
      "text/plain": [
       "<IPython.core.display.Math object>"
      ]
     },
     "metadata": {},
     "output_type": "display_data"
    },
    {
     "data": {
      "text/latex": [
       "$\\displaystyle f(X) = \\Theta^T \\cdot X$"
      ],
      "text/plain": [
       "<IPython.core.display.Math object>"
      ]
     },
     "metadata": {},
     "output_type": "display_data"
    }
   ],
   "source": [
    "display(Math(r'f(x) = ax + b'))\n",
    "display(Math(r'f(X) = \\theta_0 + \\theta_1 x_1 + \\dots + \\theta_n x_n'))\n",
    "display(Math(r'f(X) = \\Theta^T \\cdot X'))"
   ]
  },
  {
   "cell_type": "code",
   "execution_count": 20,
   "metadata": {},
   "outputs": [],
   "source": [
    "model = LinearRegression()\n",
    "model.fit(np.array(data.x).reshape(-1,1), data.y);"
   ]
  },
  {
   "cell_type": "code",
   "execution_count": 22,
   "metadata": {},
   "outputs": [
    {
     "name": "stdout",
     "output_type": "stream",
     "text": [
      "a = 50.633282983629734\n",
      "b = 18.580168908818603\n"
     ]
    }
   ],
   "source": [
    "print('a =',model.coef_[0])\n",
    "print('b =',model.intercept_)"
   ]
  },
  {
   "cell_type": "code",
   "execution_count": 23,
   "metadata": {},
   "outputs": [],
   "source": [
    "y_predict = model.predict(np.array(data.x).reshape(-1,1))"
   ]
  },
  {
   "cell_type": "code",
   "execution_count": 24,
   "metadata": {},
   "outputs": [
    {
     "name": "stdout",
     "output_type": "stream",
     "text": [
      "Mean Absolute Error\n"
     ]
    },
    {
     "data": {
      "text/latex": [
       "$\\displaystyle MAE = \\frac{1}{n} \\sum\\limits_{i=1}^{n} | \\hat{y} _{i} - y_i|$"
      ],
      "text/plain": [
       "<IPython.core.display.Math object>"
      ]
     },
     "metadata": {},
     "output_type": "display_data"
    }
   ],
   "source": [
    "print('Mean Absolute Error')\n",
    "display(Math(r'MAE = \\frac{1}{n} \\sum\\limits_{i=1}^{n} | \\hat{y} _{i} - y_i|'))"
   ]
  },
  {
   "cell_type": "code",
   "execution_count": 25,
   "metadata": {},
   "outputs": [
    {
     "data": {
      "image/png": "[encoded data removed]",
      "text/plain": [
       "<Figure size 1080x360 with 1 Axes>"
      ]
     },
     "metadata": {
      "needs_background": "light"
     },
     "output_type": "display_data"
    }
   ],
   "source": [
    "coef = np.round(model.coef_[0],3)\n",
    "intercept = np.round(model.intercept_,3)\n",
    "mae_coef = np.round(mae(y_predict,data.y),3)\n",
    "\n",
    "plt.figure(figsize=(15,5))\n",
    "plt.title('LinearRegression \\n coef: {} \\n intercept: {} \\n mae: {}'.format(coef, intercept, mae_coef))\n",
    "plt.plot(data.x, data.y, 'o', c='r')\n",
    "plt.plot(data.x,y_predict);"
   ]
  },
  {
   "cell_type": "markdown",
   "metadata": {},
   "source": [
    "#### Co tam się dzieje??? "
   ]
  },
  {
   "cell_type": "code",
   "execution_count": 26,
   "metadata": {},
   "outputs": [],
   "source": [
    "def normal_equation(X,y):\n",
    "    X_b = np.c_[X,np.ones((len(X),1))]\n",
    "    theta_best = np.linalg.inv(X_b.T.dot(X_b)).dot(X_b.T).dot(y)\n",
    "    \n",
    "    return list(theta_best)"
   ]
  },
  {
   "cell_type": "code",
   "execution_count": 27,
   "metadata": {},
   "outputs": [
    {
     "data": {
      "text/latex": [
       "$\\displaystyle  \\hat{\\Theta} = (X_b^T \\cdot X_b)^{-1} \\cdot X^T \\cdot y$"
      ],
      "text/plain": [
       "<IPython.core.display.Math object>"
      ]
     },
     "metadata": {},
     "output_type": "display_data"
    },
    {
     "data": {
      "text/plain": [
       "[50.633282983629705, 18.58016890881862]"
      ]
     },
     "execution_count": 27,
     "metadata": {},
     "output_type": "execute_result"
    }
   ],
   "source": [
    "display(Math(r' \\hat{\\Theta} = (X_b^T \\cdot X_b)^{-1} \\cdot X^T \\cdot y'))\n",
    "normal_equation(data.x,data.y)"
   ]
  }
 ],
 "metadata": {
  "kernelspec": {
   "display_name": "Python 3",
   "language": "python",
   "name": "python3"
  },
  "language_info": {
   "codemirror_mode": {
    "name": "ipython",
    "version": 3
   },
   "file_extension": ".py",
   "mimetype": "text/x-python",
   "name": "python",
   "nbconvert_exporter": "python",
   "pygments_lexer": "ipython3",
   "version": "3.7.4"
  }
 },
 "nbformat": 4,
 "nbformat_minor": 2
}
